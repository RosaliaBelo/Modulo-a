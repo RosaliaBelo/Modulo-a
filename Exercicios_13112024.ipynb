{
  "nbformat": 4,
  "nbformat_minor": 0,
  "metadata": {
    "colab": {
      "provenance": [],
      "authorship_tag": "ABX9TyMQUlq0rAS9as49uE6zLN6q",
      "include_colab_link": true
    },
    "kernelspec": {
      "name": "python3",
      "display_name": "Python 3"
    },
    "language_info": {
      "name": "python"
    }
  },
  "cells": [
    {
      "cell_type": "markdown",
      "metadata": {
        "id": "view-in-github",
        "colab_type": "text"
      },
      "source": [
        "<a href=\"https://colab.research.google.com/github/RosaliaBelo/Modulo-a/blob/Ros%C3%A1lia/Exercicios_13112024.ipynb\" target=\"_parent\"><img src=\"https://colab.research.google.com/assets/colab-badge.svg\" alt=\"Open In Colab\"/></a>"
      ]
    },
    {
      "cell_type": "markdown",
      "source": [
        "Exercicio 1 - Programa para calcular a média de duas notas."
      ],
      "metadata": {
        "id": "82rQ2iDi2qMf"
      }
    },
    {
      "cell_type": "code",
      "source": [
        "print('Média 1ª Bimestre')\n",
        "num1 = int(input('Informe a nota 1: '))\n",
        "num2 = int(input('Informe a nota 2: '))\n",
        "resultado = ((num1 + num2)/2)\n",
        "print(f'A média do aluno é: {resultado}')\n",
        "if resultado >= 7:\n",
        "    print('Aprovado')\n",
        "else:\n",
        "    print('Reprovado')\n",
        "\n"
      ],
      "metadata": {
        "colab": {
          "base_uri": "https://localhost:8080/"
        },
        "id": "KOPVfL5h3VfU",
        "outputId": "95d65f7b-2157-4a1c-8c20-3916b129ee71"
      },
      "execution_count": 2,
      "outputs": [
        {
          "output_type": "stream",
          "name": "stdout",
          "text": [
            "Média 1ª Bimestre\n",
            "Informe a nota 1: 10\n",
            "Informe a nota 2: 8\n",
            "A média do aluno é: 9.0\n",
            "Aprovado\n"
          ]
        }
      ]
    },
    {
      "cell_type": "markdown",
      "source": [
        "Exercício 2 - Informar senha"
      ],
      "metadata": {
        "id": "u7zykpug-XLE"
      }
    },
    {
      "cell_type": "code",
      "source": [
        "# POR QUE MEU RESULTADO NÃO VARIA CONFORME A CONDIÇÃO?"
      ],
      "metadata": {
        "id": "9yJ9FkQ3VAPN"
      },
      "execution_count": null,
      "outputs": []
    },
    {
      "cell_type": "code",
      "source": [
        "senha = int(102030)\n",
        "input('Informe sua senha: ')\n",
        "if senha == 102030:\n",
        "    print('Acesso permitido')\n",
        "else:\n",
        "    print('Acesso negado')"
      ],
      "metadata": {
        "id": "yHlj3TiNA-oy",
        "colab": {
          "base_uri": "https://localhost:8080/"
        },
        "outputId": "c8e55557-0822-49c7-ff2a-fc086e55c870"
      },
      "execution_count": 7,
      "outputs": [
        {
          "output_type": "stream",
          "name": "stdout",
          "text": [
            "Informe sua senha: 1547\n",
            "Acesso permitido\n"
          ]
        }
      ]
    }
  ]
}
